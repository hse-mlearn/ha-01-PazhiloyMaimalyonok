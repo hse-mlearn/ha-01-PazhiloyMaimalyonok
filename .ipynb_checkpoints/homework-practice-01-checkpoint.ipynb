{
 "cells": [
  {
   "cell_type": "markdown",
   "metadata": {},
   "source": [
    "# Машинное обучение, ФЭН ВШЭ\n",
    "\n",
    "## Практическое задание 1\n",
    "\n",
    "### Общая информация\n",
    "Дата выдачи: 19.09.2019  \n",
    "\n",
    "Мягкий дедлайн: 23:59MSK 27.09.2019 (за каждый день просрочки снимается 1 балл)\n",
    "\n",
    "Жесткий дедлайн: 23:59MSK 04.10.2019  "
   ]
  },
  {
   "cell_type": "markdown",
   "metadata": {},
   "source": [
    "### О задании\n",
    "\n",
    "Задание состоит из двух разделов, посвященных работе с табличными данными с помощью библиотеки pandas и визуализации с помощью matplotlib. В каждом разделе вам предлагается выполнить несколько заданий. Баллы даются за выполнение отдельных пунктов. Задачи в рамках одного раздела рекомендуется решать в том порядке, в котором они даны в задании.\n",
    "\n",
    "Задание направлено на освоение jupyter notebook (будет использоваться в дальнейших заданиях), библиотекам pandas и matplotlib.\n",
    "\n",
    "### Оценивание и штрафы\n",
    "Каждая из задач имеет определенную «стоимость» (указана в скобках около задачи). Максимально допустимая оценка за работу — 10 баллов.\n",
    "\n",
    "Сдавать задание после указанного срока сдачи нельзя. При выставлении неполного балла за задание в связи с наличием ошибок на усмотрение проверяющего предусмотрена возможность исправить работу на указанных в ответном письме условиях.\n",
    "\n",
    "Задание выполняется самостоятельно. «Похожие» решения считаются плагиатом и все задействованные студенты (в том числе те, у кого списали) не могут получить за него больше 0 баллов (подробнее о плагиате см. на странице курса). Если вы нашли решение какого-то из заданий (или его часть) в открытом источнике, необходимо указать ссылку на этот источник в отдельном блоке в конце вашей работы (скорее всего вы будете не единственным, кто это нашел, поэтому чтобы исключить подозрение в плагиате, необходима ссылка на источник).\n",
    "\n",
    "### Формат сдачи\n",
    "Будет объявлен позже."
   ]
  },
  {
   "cell_type": "markdown",
   "metadata": {},
   "source": [
    "## 0. Введение"
   ]
  },
  {
   "cell_type": "markdown",
   "metadata": {
    "collapsed": true
   },
   "source": [
    "Сейчас мы находимся в jupyter-ноутбуке (или ipython-ноутбуке). Это удобная среда для написания кода, проведения экспериментов, изучения данных, построения визуализаций и других нужд, не связанных с написаем production-кода. \n",
    "\n",
    "Ноутбук состоит из ячеек, каждая из которых может быть либо ячейкой с кодом, либо ячейкой с текстом размеченным и неразмеченным. Текст поддерживает markdown-разметку и формулы в Latex.\n",
    "\n",
    "Для работы с содержимым ячейки используется *режим редактирования* (*Edit mode*, включается нажатием клавиши **Enter** после выбора ячейки), а для навигации между ячейками искользуется *командный режим* (*Command mode*, включается нажатием клавиши **Esc**). Тип ячейки можно задать в командном режиме либо с помощью горячих клавиш (**y** to code, **m** to markdown, **r** to edit raw text), либо в меню *Cell -> Cell type*. \n",
    "\n",
    "После заполнения ячейки нужно нажать *Shift + Enter*, эта команда обработает содержимое ячейки: проинтерпретирует код или сверстает размеченный текст."
   ]
  },
  {
   "cell_type": "code",
   "execution_count": 64,
   "metadata": {},
   "outputs": [
    {
     "data": {
      "text/plain": [
       "4"
      ]
     },
     "execution_count": 64,
     "metadata": {},
     "output_type": "execute_result"
    }
   ],
   "source": [
    "# ячейка с кодом, при выполнении которой появится output\n",
    "2 + 2"
   ]
  },
  {
   "cell_type": "markdown",
   "metadata": {},
   "source": [
    "А это ___ячейка с текстом___."
   ]
  },
  {
   "cell_type": "raw",
   "metadata": {},
   "source": [
    "Ячейка с неразмеченыным текстом."
   ]
  },
  {
   "cell_type": "markdown",
   "metadata": {},
   "source": [
    "Попробуйте создать свои ячейки, написать какой-нибудь код и текст какой-нибудь формулой."
   ]
  },
  {
   "cell_type": "markdown",
   "metadata": {},
   "source": [
    "# Красотища какая"
   ]
  },
  {
   "cell_type": "code",
   "execution_count": 65,
   "metadata": {},
   "outputs": [
    {
     "name": "stdout",
     "output_type": "stream",
     "text": [
      "Привет, ml\n"
     ]
    }
   ],
   "source": [
    "print('Привет, ml')"
   ]
  },
  {
   "cell_type": "markdown",
   "metadata": {},
   "source": [
    "[Здесь](https://athena.brynmawr.edu/jupyter/hub/dblank/public/Jupyter%20Notebook%20Users%20Manual.ipynb) находится <s>не</s>большая заметка о используемом языке разметки Markdown. Он позволяет:\n",
    "\n",
    "0. Составлять упорядоченные списки\n",
    "1. #Делать \n",
    "##заголовки \n",
    "###разного уровня\n",
    "3. Выделять *текст* <s>при</s> **необходимости**\n",
    "4. Добавлять [ссылки](http://imgs.xkcd.com/comics/the_universal_label.png)\n",
    "\n",
    "\n",
    "* Составлять неупорядоченные списки\n",
    "\n",
    "Делать вставки с помощью LaTex:\n",
    "    \n",
    "$\n",
    "\\left\\{\n",
    "\\begin{array}{ll}\n",
    "x = 16 \\sin^3 (t) \\\\ \n",
    "y = 13 \\cos (t) - 5 \\cos (2t) - 2 \\cos (3t) - \\cos (4t) \\\\\n",
    "t \\in [0, 2 \\pi]\n",
    "\\end{array}\n",
    "\\right.$"
   ]
  },
  {
   "cell_type": "markdown",
   "metadata": {},
   "source": [
    "А ещё можно вставлять картинки:\n",
    "<img src=\"https://st2.depositphotos.com/1177973/9266/i/950/depositphotos_92668716-stock-photo-red-cat-with-computer-keyboard.jpg\" style=\"width: 400px\">"
   ]
  },
  {
   "cell_type": "markdown",
   "metadata": {},
   "source": [
    "## 1. Табличные данные и Pandas"
   ]
  },
  {
   "cell_type": "markdown",
   "metadata": {},
   "source": [
    "Pandas — удобная библиотека для работы с табличными данными в Python, если данных не слишком много и они помещаются в оперативную память вашего компьютера. Несмотря на неэффективность реализации и некоторые проблемы, библиотека стала стандартом в анализе данных. С этой библиотекой мы сейчас и познакомимся.\n",
    "\n",
    "Основной объект в pandas это DataFrame, представляющий собой таблицу с именованными колонками различных типов, индексом (может быть многоуровневым). DataFrame можно создавать, считывая таблицу из файла или задавая вручную из других объектов.\n",
    "\n",
    "В этой части потребуется выполнить несколько небольших заданий. Можно пойти двумя путями: сначала изучить материалы, а потом приступить к заданиям, или же разбираться \"по ходу\". Выбирайте сами.\n",
    "\n",
    "Материалы:\n",
    "1. [Pandas за 10 минут из официального руководства](http://pandas.pydata.org/pandas-docs/stable/10min.html)\n",
    "2. [Документация](http://pandas.pydata.org/pandas-docs/stable/index.html) (стоит обращаться, если не понятно, как вызывать конкретный метод)\n",
    "3. [Примеры использования функционала](http://nbviewer.jupyter.org/github/justmarkham/pandas-videos/blob/master/pandas.ipynb)\n",
    "\n",
    "Многие из заданий можно выполнить несколькими способами. Не существуют единственно верного, но попробуйте максимально задействовать арсенал pandas и ориентируйтесь на простоту и понятность вашего кода. Мы не будем подсказывать, что нужно использовать для решения конкретной задачи, попробуйте находить необходимый функционал сами (название метода чаще всего очевидно). В помощь вам документация, поиск и stackoverflow."
   ]
  },
  {
   "cell_type": "code",
   "execution_count": 1,
   "metadata": {},
   "outputs": [
    {
     "name": "stdout",
     "output_type": "stream",
     "text": [
      "Populating the interactive namespace from numpy and matplotlib\n"
     ]
    }
   ],
   "source": [
    "%pylab inline  \n",
    "# import almost all we need\n",
    "import pandas as pd"
   ]
  },
  {
   "cell_type": "markdown",
   "metadata": {},
   "source": [
    "Данные можно скачать [отсюда](https://www.dropbox.com/s/5qq94wzmbw4e54r/data.csv?dl=0)."
   ]
  },
  {
   "cell_type": "markdown",
   "metadata": {},
   "source": [
    "#### 1. [0.5 баллов] Откройте файл с таблицей (не забудьте про её формат). Выведите последние 10 строк.\n",
    "\n",
    "Посмотрите на данные и скажите, что они из себя представляют, сколько в таблице строк, какие столбцы?"
   ]
  },
  {
   "cell_type": "code",
   "execution_count": 2,
   "metadata": {},
   "outputs": [
    {
     "data": {
      "text/html": [
       "<div>\n",
       "<style scoped>\n",
       "    .dataframe tbody tr th:only-of-type {\n",
       "        vertical-align: middle;\n",
       "    }\n",
       "\n",
       "    .dataframe tbody tr th {\n",
       "        vertical-align: top;\n",
       "    }\n",
       "\n",
       "    .dataframe thead th {\n",
       "        text-align: right;\n",
       "    }\n",
       "</style>\n",
       "<table border=\"1\" class=\"dataframe\">\n",
       "  <thead>\n",
       "    <tr style=\"text-align: right;\">\n",
       "      <th></th>\n",
       "      <th>order_id</th>\n",
       "      <th>quantity</th>\n",
       "      <th>item_name</th>\n",
       "      <th>choice_description</th>\n",
       "      <th>item_price</th>\n",
       "    </tr>\n",
       "  </thead>\n",
       "  <tbody>\n",
       "    <tr>\n",
       "      <th>4612</th>\n",
       "      <td>1831</td>\n",
       "      <td>1</td>\n",
       "      <td>Carnitas Bowl</td>\n",
       "      <td>[Fresh Tomato Salsa, [Fajita Vegetables, Rice,...</td>\n",
       "      <td>$9.25</td>\n",
       "    </tr>\n",
       "    <tr>\n",
       "      <th>4613</th>\n",
       "      <td>1831</td>\n",
       "      <td>1</td>\n",
       "      <td>Chips</td>\n",
       "      <td>NaN</td>\n",
       "      <td>$2.15</td>\n",
       "    </tr>\n",
       "    <tr>\n",
       "      <th>4614</th>\n",
       "      <td>1831</td>\n",
       "      <td>1</td>\n",
       "      <td>Bottled Water</td>\n",
       "      <td>NaN</td>\n",
       "      <td>$1.50</td>\n",
       "    </tr>\n",
       "    <tr>\n",
       "      <th>4615</th>\n",
       "      <td>1832</td>\n",
       "      <td>1</td>\n",
       "      <td>Chicken Soft Tacos</td>\n",
       "      <td>[Fresh Tomato Salsa, [Rice, Cheese, Sour Cream]]</td>\n",
       "      <td>$8.75</td>\n",
       "    </tr>\n",
       "    <tr>\n",
       "      <th>4616</th>\n",
       "      <td>1832</td>\n",
       "      <td>1</td>\n",
       "      <td>Chips and Guacamole</td>\n",
       "      <td>NaN</td>\n",
       "      <td>$4.45</td>\n",
       "    </tr>\n",
       "    <tr>\n",
       "      <th>4617</th>\n",
       "      <td>1833</td>\n",
       "      <td>1</td>\n",
       "      <td>Steak Burrito</td>\n",
       "      <td>[Fresh Tomato Salsa, [Rice, Black Beans, Sour ...</td>\n",
       "      <td>$11.75</td>\n",
       "    </tr>\n",
       "    <tr>\n",
       "      <th>4618</th>\n",
       "      <td>1833</td>\n",
       "      <td>1</td>\n",
       "      <td>Steak Burrito</td>\n",
       "      <td>[Fresh Tomato Salsa, [Rice, Sour Cream, Cheese...</td>\n",
       "      <td>$11.75</td>\n",
       "    </tr>\n",
       "    <tr>\n",
       "      <th>4619</th>\n",
       "      <td>1834</td>\n",
       "      <td>1</td>\n",
       "      <td>Chicken Salad Bowl</td>\n",
       "      <td>[Fresh Tomato Salsa, [Fajita Vegetables, Pinto...</td>\n",
       "      <td>$11.25</td>\n",
       "    </tr>\n",
       "    <tr>\n",
       "      <th>4620</th>\n",
       "      <td>1834</td>\n",
       "      <td>1</td>\n",
       "      <td>Chicken Salad Bowl</td>\n",
       "      <td>[Fresh Tomato Salsa, [Fajita Vegetables, Lettu...</td>\n",
       "      <td>$8.75</td>\n",
       "    </tr>\n",
       "    <tr>\n",
       "      <th>4621</th>\n",
       "      <td>1834</td>\n",
       "      <td>1</td>\n",
       "      <td>Chicken Salad Bowl</td>\n",
       "      <td>[Fresh Tomato Salsa, [Fajita Vegetables, Pinto...</td>\n",
       "      <td>$8.75</td>\n",
       "    </tr>\n",
       "  </tbody>\n",
       "</table>\n",
       "</div>"
      ],
      "text/plain": [
       "      order_id  quantity            item_name  \\\n",
       "4612      1831         1        Carnitas Bowl   \n",
       "4613      1831         1                Chips   \n",
       "4614      1831         1        Bottled Water   \n",
       "4615      1832         1   Chicken Soft Tacos   \n",
       "4616      1832         1  Chips and Guacamole   \n",
       "4617      1833         1        Steak Burrito   \n",
       "4618      1833         1        Steak Burrito   \n",
       "4619      1834         1   Chicken Salad Bowl   \n",
       "4620      1834         1   Chicken Salad Bowl   \n",
       "4621      1834         1   Chicken Salad Bowl   \n",
       "\n",
       "                                     choice_description item_price  \n",
       "4612  [Fresh Tomato Salsa, [Fajita Vegetables, Rice,...     $9.25   \n",
       "4613                                                NaN     $2.15   \n",
       "4614                                                NaN     $1.50   \n",
       "4615   [Fresh Tomato Salsa, [Rice, Cheese, Sour Cream]]     $8.75   \n",
       "4616                                                NaN     $4.45   \n",
       "4617  [Fresh Tomato Salsa, [Rice, Black Beans, Sour ...    $11.75   \n",
       "4618  [Fresh Tomato Salsa, [Rice, Sour Cream, Cheese...    $11.75   \n",
       "4619  [Fresh Tomato Salsa, [Fajita Vegetables, Pinto...    $11.25   \n",
       "4620  [Fresh Tomato Salsa, [Fajita Vegetables, Lettu...     $8.75   \n",
       "4621  [Fresh Tomato Salsa, [Fajita Vegetables, Pinto...     $8.75   "
      ]
     },
     "execution_count": 2,
     "metadata": {},
     "output_type": "execute_result"
    }
   ],
   "source": [
    "df=pd.read_csv('data.csv')\n",
    "df[-10:]"
   ]
  },
  {
   "cell_type": "markdown",
   "metadata": {},
   "source": [
    "Это заказы в ресторане. В таблице 4621 строка, и 5 столбцов: номер заказа, количество, название блюда, описание выбранного блюда, цена"
   ]
  },
  {
   "cell_type": "markdown",
   "metadata": {},
   "source": [
    "#### 2. [0.25 баллов] Ответьте на вопросы:\n",
    "1. Сколько заказов попало в выборку?\n",
    "2. Сколько уникальных категорий товара было куплено? (item_name)"
   ]
  },
  {
   "cell_type": "markdown",
   "metadata": {},
   "source": [
    "1834 заказов"
   ]
  },
  {
   "cell_type": "markdown",
   "metadata": {},
   "source": [
    "50 уникальных категорий куплено"
   ]
  },
  {
   "cell_type": "markdown",
   "metadata": {},
   "source": [
    "#### 3. [0.25 баллов] Есть ли в данных пропуски? В каких колонках? "
   ]
  },
  {
   "cell_type": "markdown",
   "metadata": {},
   "source": [
    "Пропуски есть в колонке описания заказов "
   ]
  },
  {
   "cell_type": "markdown",
   "metadata": {},
   "source": [
    "Заполните пропуски пустой строкой для строковых колонок и нулём для числовых."
   ]
  },
  {
   "cell_type": "code",
   "execution_count": 3,
   "metadata": {},
   "outputs": [],
   "source": [
    "df['choice_description']=df['choice_description'].fillna('')\n"
   ]
  },
  {
   "cell_type": "markdown",
   "metadata": {},
   "source": [
    "#### 4. [0.5 баллов] Посмотрите внимательнее на колонку с ценой товара. Какого она типа? Создайте новую колонку так, чтобы в ней цена была числом.\n",
    "\n",
    "Для этого попробуйте применить функцию-преобразование к каждой строке вашей таблицы (для этого есть соответствующая функция)."
   ]
  },
  {
   "cell_type": "code",
   "execution_count": 4,
   "metadata": {},
   "outputs": [],
   "source": [
    "df['new_price']=(df['item_price'].str.replace('$', '')).astype(float)"
   ]
  },
  {
   "cell_type": "markdown",
   "metadata": {},
   "source": [
    "Какая средняя/минимальная/максимальная цена у товара? "
   ]
  },
  {
   "cell_type": "code",
   "execution_count": 5,
   "metadata": {},
   "outputs": [
    {
     "data": {
      "text/plain": [
       "count    4622.000000\n",
       "mean        7.464336\n",
       "std         4.245557\n",
       "min         1.090000\n",
       "25%         3.390000\n",
       "50%         8.750000\n",
       "75%         9.250000\n",
       "max        44.250000\n",
       "Name: new_price, dtype: float64"
      ]
     },
     "execution_count": 5,
     "metadata": {},
     "output_type": "execute_result"
    }
   ],
   "source": [
    "df['new_price'].describe()\n",
    "#минимальная цена 1.09, а максимальная 44.25"
   ]
  },
  {
   "cell_type": "markdown",
   "metadata": {},
   "source": [
    "Удалите старую колонку с ценой."
   ]
  },
  {
   "cell_type": "code",
   "execution_count": 6,
   "metadata": {},
   "outputs": [],
   "source": [
    "#колонка удалена\n",
    "df=df.drop('item_price',axis=1)"
   ]
  },
  {
   "cell_type": "markdown",
   "metadata": {},
   "source": [
    "#### 5. [0.25 баллов] Какие 5 товаров были самыми дешёвыми и самыми дорогими? (по item_name)\n",
    "\n",
    "Для этого будет удобно избавиться от дубликатов и отсортировать товары. Не забудьте про количество товара."
   ]
  },
  {
   "cell_type": "markdown",
   "metadata": {},
   "source": [
    "# Можно сделать лучше"
   ]
  },
  {
   "cell_type": "code",
   "execution_count": 7,
   "metadata": {},
   "outputs": [
    {
     "name": "stdout",
     "output_type": "stream",
     "text": [
      "1.09\n",
      "['Canned Soda' 'Bottled Water']\n",
      "1.25\n",
      "['Canned Soft Drink']\n",
      "1.5\n",
      "['Bottled Water']\n",
      "1.69\n",
      "['Side of Chips']\n",
      "1.6900000000000002\n",
      "['Side of Chips']\n",
      "1.99\n",
      "['Chips']\n",
      "2.15\n",
      "['Chips']\n",
      "2.29\n",
      "['Chips and Fresh Tomato Salsa']\n",
      "2.39\n",
      "['Chips and Fresh Tomato Salsa' 'Chips and Tomatillo-Green Chili Salsa'\n",
      " 'Chips and Roasted Chili-Corn Salsa'\n",
      " 'Chips and Tomatillo-Red Chili Salsa']\n",
      "2.95\n",
      "['Chips and Tomatillo Green Chili Salsa' 'Chips and Fresh Tomato Salsa'\n",
      " 'Chips and Tomatillo Red Chili Salsa'\n",
      " 'Chips and Roasted Chili Corn Salsa']\n",
      "3.0\n",
      "['Chips and Mild Fresh Tomato Salsa']\n",
      "3.39\n",
      "['Izze' 'Nantucket Nectar']\n",
      "3.89\n",
      "['Chips and Guacamole']\n",
      "3.99\n",
      "['Chips and Guacamole']\n",
      "4.0\n",
      "['Chips and Guacamole']\n",
      "4.25\n",
      "['Chips and Guacamole']\n",
      "4.45\n",
      "['Chips and Guacamole']\n",
      "6.49\n",
      "['6 Pack Soft Drink']\n",
      "7.3999999999999995\n",
      "['Bowl']\n",
      "7.4\n",
      "['Burrito' 'Crispy Tacos' 'Bowl' 'Salad']\n",
      "8.19\n",
      "['Chicken Burrito' 'Chicken Bowl' 'Chicken Salad']\n",
      "8.49\n",
      "['Chicken Bowl' 'Chicken Burrito' 'Veggie Bowl' 'Veggie Burrito'\n",
      " 'Chicken Soft Tacos' 'Chicken Crispy Tacos' 'Veggie Soft Tacos'\n",
      " 'Veggie Crispy Tacos' 'Veggie Salad' 'Chicken Salad']\n",
      "8.5\n",
      "['Chicken Bowl']\n",
      "8.69\n",
      "['Steak Burrito' 'Steak Crispy Tacos' 'Steak Bowl' 'Barbacoa Burrito'\n",
      " 'Barbacoa Bowl' 'Carnitas Burrito' 'Steak Salad']\n",
      "8.75\n",
      "['Chicken Crispy Tacos' 'Chicken Soft Tacos' 'Chicken Bowl'\n",
      " 'Chicken Salad Bowl' 'Chicken Burrito' 'Veggie Bowl' 'Veggie Burrito'\n",
      " 'Veggie Soft Tacos' 'Veggie Salad Bowl']\n",
      "8.99\n",
      "['Barbacoa Burrito' 'Carnitas Burrito' 'Steak Burrito' 'Carnitas Bowl'\n",
      " 'Steak Bowl' 'Steak Soft Tacos' 'Barbacoa Bowl' 'Barbacoa Soft Tacos'\n",
      " 'Steak Crispy Tacos' 'Steak Salad' 'Carnitas Soft Tacos'\n",
      " 'Barbacoa Crispy Tacos' 'Carnitas Crispy Tacos' 'Carnitas Salad']\n",
      "9.25\n",
      "['Steak Soft Tacos' 'Steak Burrito' 'Barbacoa Soft Tacos'\n",
      " 'Barbacoa Burrito' 'Carnitas Burrito' 'Steak Crispy Tacos'\n",
      " 'Barbacoa Bowl' 'Carnitas Bowl' 'Steak Bowl' 'Carnitas Soft Tacos'\n",
      " 'Barbacoa Crispy Tacos' 'Carnitas Crispy Tacos']\n",
      "9.39\n",
      "['Steak Salad Bowl' 'Barbacoa Salad Bowl' 'Carnitas Salad Bowl']\n",
      "10.58\n",
      "['Chicken Burrito' 'Chicken Bowl']\n",
      "10.979999999999999\n",
      "['Chicken Bowl']\n",
      "10.98\n",
      "['Chicken Bowl' 'Chicken Burrito' 'Chicken Salad' 'Chicken Soft Tacos'\n",
      " 'Veggie Burrito' 'Chicken Crispy Tacos' 'Veggie Bowl']\n",
      "11.08\n",
      "['Steak Burrito' 'Carnitas Bowl' 'Steak Bowl' 'Barbacoa Burrito'\n",
      " 'Carnitas Burrito']\n",
      "11.25\n",
      "['Chicken Bowl' 'Veggie Burrito' 'Veggie Bowl' 'Chicken Soft Tacos'\n",
      " 'Chicken Salad Bowl' 'Chicken Burrito' 'Veggie Salad Bowl'\n",
      " 'Chicken Crispy Tacos' 'Veggie Soft Tacos']\n",
      "11.48\n",
      "['Steak Burrito' 'Carnitas Bowl' 'Steak Bowl' 'Barbacoa Crispy Tacos'\n",
      " 'Barbacoa Bowl' 'Carnitas Burrito' 'Steak Soft Tacos'\n",
      " 'Barbacoa Soft Tacos' 'Barbacoa Burrito']\n",
      "11.49\n",
      "['Barbacoa Bowl']\n",
      "11.75\n",
      "['Steak Burrito' 'Barbacoa Bowl' 'Steak Bowl' 'Carnitas Burrito'\n",
      " 'Carnitas Bowl' 'Barbacoa Burrito' 'Barbacoa Crispy Tacos'\n",
      " 'Barbacoa Soft Tacos' 'Carnitas Crispy Tacos' 'Steak Soft Tacos'\n",
      " 'Carnitas Soft Tacos' 'Steak Crispy Tacos']\n",
      "11.89\n",
      "['Steak Salad Bowl' 'Carnitas Salad Bowl' 'Barbacoa Salad Bowl']\n"
     ]
    }
   ],
   "source": [
    "df['pricePerDish']= df['new_price']/ df['quantity']\n",
    "for pricePerDish,sub_df in df.groupby('pricePerDish'):\n",
    "    print(pricePerDish)\n",
    "    print (sub_df['item_name'].unique())"
   ]
  },
  {
   "cell_type": "markdown",
   "metadata": {},
   "source": [
    "Получилось уродливо, знаю)\n",
    "Самые дорогие: Barbacoa Salad Bowl,Carnitas Salad Bow, Steak Salad Bowl, Steak Burrito, Carnitas Burrito\n",
    "Самые дешевые: Canned Soda, Bottled water, Canned Soft Drink, Sid of Chips, Chips"
   ]
  },
  {
   "cell_type": "markdown",
   "metadata": {},
   "source": [
    "#### 6. [0.5 баллов] Какой средний чек у заказа? Сколько в среднем товаров покупают?\n",
    "\n",
    "Если необходимо провести вычисления в терминах заказов, то будет удобно сгруппировать строки по заказам и посчитать необходимые статистики."
   ]
  },
  {
   "cell_type": "code",
   "execution_count": 8,
   "metadata": {},
   "outputs": [
    {
     "name": "stdout",
     "output_type": "stream",
     "text": [
      "18.80117711171674\n"
     ]
    }
   ],
   "source": [
    "TotalSum=0\n",
    "for i in df['order_id'].unique():\n",
    "    TotalSum=TotalSum +df[df['order_id']==i]['new_price'].sum()\n",
    "    i=i +1\n",
    "AverageCheck= TotalSum/i   \n",
    "\n",
    "print(AverageCheck)\n"
   ]
  },
  {
   "cell_type": "code",
   "execution_count": 9,
   "metadata": {},
   "outputs": [
    {
     "name": "stdout",
     "output_type": "stream",
     "text": [
      "2.7095367847411445\n"
     ]
    }
   ],
   "source": [
    "TotalGoods=0\n",
    "for i in df['order_id'].unique():\n",
    "    TotalGoods=TotalGoods +df[df['order_id']==i]['quantity'].sum()\n",
    "    i=i +1\n",
    "AverageGoods= TotalGoods/i   \n",
    "\n",
    "print(AverageGoods)\n"
   ]
  },
  {
   "cell_type": "markdown",
   "metadata": {},
   "source": [
    "#### 7. [0.25 баллов] Сколько заказов содержали ровно 1 товар?"
   ]
  },
  {
   "cell_type": "code",
   "execution_count": 10,
   "metadata": {},
   "outputs": [
    {
     "name": "stdout",
     "output_type": "stream",
     "text": [
      "56\n"
     ]
    }
   ],
   "source": [
    "Count=0\n",
    "for i in df['order_id'].unique():\n",
    "    if df[df['order_id']==i]['quantity'].sum()==1:\n",
    "        Count+=1\n",
    "print(Count)"
   ]
  },
  {
   "cell_type": "markdown",
   "metadata": {},
   "source": [
    "#### 8. [0.75 баллов] Создайте новый DateFrame из матрицы, созданной ниже. Назовите колонки index, column1, column2 и сделайте первую колонку индексом."
   ]
  },
  {
   "cell_type": "code",
   "execution_count": 11,
   "metadata": {},
   "outputs": [
    {
     "data": {
      "text/html": [
       "<div>\n",
       "<style scoped>\n",
       "    .dataframe tbody tr th:only-of-type {\n",
       "        vertical-align: middle;\n",
       "    }\n",
       "\n",
       "    .dataframe tbody tr th {\n",
       "        vertical-align: top;\n",
       "    }\n",
       "\n",
       "    .dataframe thead th {\n",
       "        text-align: right;\n",
       "    }\n",
       "</style>\n",
       "<table border=\"1\" class=\"dataframe\">\n",
       "  <thead>\n",
       "    <tr style=\"text-align: right;\">\n",
       "      <th></th>\n",
       "      <th>index</th>\n",
       "      <th>column1</th>\n",
       "      <th>column2</th>\n",
       "    </tr>\n",
       "  </thead>\n",
       "  <tbody>\n",
       "    <tr>\n",
       "      <th>0</th>\n",
       "      <td>0.468445</td>\n",
       "      <td>0.019190</td>\n",
       "      <td>0.025217</td>\n",
       "    </tr>\n",
       "    <tr>\n",
       "      <th>1</th>\n",
       "      <td>0.646564</td>\n",
       "      <td>0.191514</td>\n",
       "      <td>0.176102</td>\n",
       "    </tr>\n",
       "    <tr>\n",
       "      <th>2</th>\n",
       "      <td>0.063846</td>\n",
       "      <td>0.171482</td>\n",
       "      <td>0.453308</td>\n",
       "    </tr>\n",
       "    <tr>\n",
       "      <th>3</th>\n",
       "      <td>0.128375</td>\n",
       "      <td>0.828751</td>\n",
       "      <td>0.884744</td>\n",
       "    </tr>\n",
       "    <tr>\n",
       "      <th>4</th>\n",
       "      <td>0.735713</td>\n",
       "      <td>0.368196</td>\n",
       "      <td>0.474748</td>\n",
       "    </tr>\n",
       "    <tr>\n",
       "      <th>5</th>\n",
       "      <td>0.529155</td>\n",
       "      <td>0.155704</td>\n",
       "      <td>0.836526</td>\n",
       "    </tr>\n",
       "    <tr>\n",
       "      <th>6</th>\n",
       "      <td>0.891582</td>\n",
       "      <td>0.489710</td>\n",
       "      <td>0.024738</td>\n",
       "    </tr>\n",
       "    <tr>\n",
       "      <th>7</th>\n",
       "      <td>0.021935</td>\n",
       "      <td>0.663925</td>\n",
       "      <td>0.725569</td>\n",
       "    </tr>\n",
       "    <tr>\n",
       "      <th>8</th>\n",
       "      <td>0.860398</td>\n",
       "      <td>0.210837</td>\n",
       "      <td>0.871654</td>\n",
       "    </tr>\n",
       "    <tr>\n",
       "      <th>9</th>\n",
       "      <td>0.845800</td>\n",
       "      <td>0.583496</td>\n",
       "      <td>0.687504</td>\n",
       "    </tr>\n",
       "  </tbody>\n",
       "</table>\n",
       "</div>"
      ],
      "text/plain": [
       "      index   column1   column2\n",
       "0  0.468445  0.019190  0.025217\n",
       "1  0.646564  0.191514  0.176102\n",
       "2  0.063846  0.171482  0.453308\n",
       "3  0.128375  0.828751  0.884744\n",
       "4  0.735713  0.368196  0.474748\n",
       "5  0.529155  0.155704  0.836526\n",
       "6  0.891582  0.489710  0.024738\n",
       "7  0.021935  0.663925  0.725569\n",
       "8  0.860398  0.210837  0.871654\n",
       "9  0.845800  0.583496  0.687504"
      ]
     },
     "execution_count": 11,
     "metadata": {},
     "output_type": "execute_result"
    }
   ],
   "source": [
    "import numpy as np\n",
    "import pandas as pd\n",
    "data = np.random.rand(10, 3)\n",
    "\n",
    "data_new = pd.DataFrame(data=data[:,0:],\n",
    "              columns=['index','column1','column2']) \n",
    "data_new"
   ]
  },
  {
   "cell_type": "code",
   "execution_count": 12,
   "metadata": {},
   "outputs": [
    {
     "data": {
      "text/html": [
       "<div>\n",
       "<style scoped>\n",
       "    .dataframe tbody tr th:only-of-type {\n",
       "        vertical-align: middle;\n",
       "    }\n",
       "\n",
       "    .dataframe tbody tr th {\n",
       "        vertical-align: top;\n",
       "    }\n",
       "\n",
       "    .dataframe thead th {\n",
       "        text-align: right;\n",
       "    }\n",
       "</style>\n",
       "<table border=\"1\" class=\"dataframe\">\n",
       "  <thead>\n",
       "    <tr style=\"text-align: right;\">\n",
       "      <th></th>\n",
       "      <th>column1</th>\n",
       "      <th>column2</th>\n",
       "    </tr>\n",
       "    <tr>\n",
       "      <th>index</th>\n",
       "      <th></th>\n",
       "      <th></th>\n",
       "    </tr>\n",
       "  </thead>\n",
       "  <tbody>\n",
       "    <tr>\n",
       "      <th>0.468445</th>\n",
       "      <td>0.019190</td>\n",
       "      <td>0.025217</td>\n",
       "    </tr>\n",
       "    <tr>\n",
       "      <th>0.646564</th>\n",
       "      <td>0.191514</td>\n",
       "      <td>0.176102</td>\n",
       "    </tr>\n",
       "    <tr>\n",
       "      <th>0.063846</th>\n",
       "      <td>0.171482</td>\n",
       "      <td>0.453308</td>\n",
       "    </tr>\n",
       "    <tr>\n",
       "      <th>0.128375</th>\n",
       "      <td>0.828751</td>\n",
       "      <td>0.884744</td>\n",
       "    </tr>\n",
       "    <tr>\n",
       "      <th>0.735713</th>\n",
       "      <td>0.368196</td>\n",
       "      <td>0.474748</td>\n",
       "    </tr>\n",
       "    <tr>\n",
       "      <th>0.529155</th>\n",
       "      <td>0.155704</td>\n",
       "      <td>0.836526</td>\n",
       "    </tr>\n",
       "    <tr>\n",
       "      <th>0.891582</th>\n",
       "      <td>0.489710</td>\n",
       "      <td>0.024738</td>\n",
       "    </tr>\n",
       "    <tr>\n",
       "      <th>0.021935</th>\n",
       "      <td>0.663925</td>\n",
       "      <td>0.725569</td>\n",
       "    </tr>\n",
       "    <tr>\n",
       "      <th>0.860398</th>\n",
       "      <td>0.210837</td>\n",
       "      <td>0.871654</td>\n",
       "    </tr>\n",
       "    <tr>\n",
       "      <th>0.845800</th>\n",
       "      <td>0.583496</td>\n",
       "      <td>0.687504</td>\n",
       "    </tr>\n",
       "  </tbody>\n",
       "</table>\n",
       "</div>"
      ],
      "text/plain": [
       "           column1   column2\n",
       "index                       \n",
       "0.468445  0.019190  0.025217\n",
       "0.646564  0.191514  0.176102\n",
       "0.063846  0.171482  0.453308\n",
       "0.128375  0.828751  0.884744\n",
       "0.735713  0.368196  0.474748\n",
       "0.529155  0.155704  0.836526\n",
       "0.891582  0.489710  0.024738\n",
       "0.021935  0.663925  0.725569\n",
       "0.860398  0.210837  0.871654\n",
       "0.845800  0.583496  0.687504"
      ]
     },
     "execution_count": 12,
     "metadata": {},
     "output_type": "execute_result"
    }
   ],
   "source": [
    "data_new = pd.DataFrame(data=data[:,1:],\n",
    "                        index=data[:,0],\n",
    "              columns=['column1','column2']) \n",
    "\n",
    "data_new.index.name= 'index'\n",
    "data_new"
   ]
  },
  {
   "cell_type": "markdown",
   "metadata": {},
   "source": [
    "Сохраните DataFrame на диск в формате csv без индексов и названий столбцов."
   ]
  },
  {
   "cell_type": "code",
   "execution_count": 13,
   "metadata": {},
   "outputs": [],
   "source": [
    "data_new.to_csv('domasha.csv')"
   ]
  },
  {
   "cell_type": "markdown",
   "metadata": {},
   "source": [
    "## 2. Визуализации и matplotlib"
   ]
  },
  {
   "cell_type": "markdown",
   "metadata": {},
   "source": [
    "При работе с данными часто неудобно делать какие-то выводы, если смотреть на таблицу и числа в частности, поэтому важно уметь визуализировать данные. В этом разделе мы этим и займёмся.\n",
    "\n",
    "У matplotlib, конечно, же есть [документация](https://matplotlib.org/users/index.html) с большим количеством [примеров](https://matplotlib.org/examples/), но для начала достаточно знать про несколько основных типов графиков:\n",
    "- plot — обычный поточечный график, которым можно изображать кривые или отдельные точки;\n",
    "- hist — гистограмма, показывающая распределение некоторое величины;\n",
    "- scatter — график, показывающий взаимосвязь двух величин;\n",
    "- bar — столбцовый график, показывающий взаимосвязь количественной величины от категориальной.\n",
    "\n",
    "В этом задании вы попробуете построить каждый из них. Не менее важно усвоить базовые принципы визуализаций:\n",
    "- на графиках должны быть подписаны оси;\n",
    "- у визуализации должно быть название;\n",
    "- если изображено несколько графиков, то необходима поясняющая легенда;\n",
    "- все линии на графиках должны быть чётко видны (нет похожих цветов или цветов, сливающихся с фоном);\n",
    "- если отображена величина, имеющая очевидный диапазон значений (например, проценты могут быть от 0 до 100), то желательно масштабировать ось на весь диапазон значений (исключением является случай, когда вам необходимо показать малое отличие, которое незаметно в таких масштабах).\n",
    "- сетка на графике помогает оценить значения в точках на глаз, это обычно полезно, поэтому лучше ее отрисовывать."
   ]
  },
  {
   "cell_type": "code",
   "execution_count": 14,
   "metadata": {},
   "outputs": [],
   "source": [
    "%matplotlib inline  \n",
    "import matplotlib.pyplot as plt"
   ]
  },
  {
   "cell_type": "markdown",
   "metadata": {},
   "source": [
    "На самом деле мы уже импортировали matplotlib внутри %pylab inline в начале задания.\n",
    "\n",
    "Работать мы будем с той же выборкой покупкок. Добавим новую колонку с датой покупки."
   ]
  },
  {
   "cell_type": "code",
   "execution_count": 15,
   "metadata": {},
   "outputs": [],
   "source": [
    "import datetime\n",
    "\n",
    "start = datetime.datetime(2018, 1, 1)\n",
    "end = datetime.datetime(2018, 1, 31)\n",
    "delta_seconds = int((end - start).total_seconds())\n",
    "\n",
    "dates = pd.DataFrame(index=df.order_id.unique())\n",
    "dates['date'] = [\n",
    "    (start + datetime.timedelta(seconds=random.randint(0, delta_seconds))).strftime('%Y-%m-%d')\n",
    "    for _ in range(df.order_id.nunique())]\n",
    "\n",
    "# если DataFrame с покупками из прошлого заказа называется не df, замените на ваше название ниже\n",
    "df['date'] = df.order_id.map(dates['date'])"
   ]
  },
  {
   "cell_type": "markdown",
   "metadata": {},
   "source": [
    "#### 1. [1 балл] Постройте гистограмму распределения сумм покупок и гистограмму средних цен отдельных видов продуктов item_name. \n",
    "\n",
    "Изображайте на двух соседних графиках. Для этого может быть полезен subplot."
   ]
  },
  {
   "cell_type": "code",
   "execution_count": 16,
   "metadata": {},
   "outputs": [
    {
     "data": {
      "image/png": "[encoded data removed]",
      "text/plain": [
       "<Figure size 432x288 with 2 Axes>"
      ]
     },
     "metadata": {
      "needs_background": "light"
     },
     "output_type": "display_data"
    }
   ],
   "source": [
    "fig, (ax1,ax2)=plt.subplots(nrows=1, ncols=2)\n",
    "ax1.hist((df.groupby(['order_id'])['new_price'].aggregate(sum)), facecolor='g', edgecolor='b', bins=[10,15,25, 35,50, 130])\n",
    "\n",
    "ax1.set_xlabel('Цена чека ')\n",
    "ax1.set_ylabel('Количество')\n",
    "ax1.set_title('распределение цены чека')\n",
    "ax1.grid(True)\n",
    "\n",
    "ax2.hist((df['new_price']/df['quantity']))\n",
    "\n",
    "ax2.set_xlabel('Средняя цена')\n",
    "ax2.set_ylabel('Количество')\n",
    "ax2.set_title('Распределение средних цен')\n",
    "ax2.grid(True)\n",
    "\n",
    "plt.subplots_adjust(wspace=1, right=1.5)\n",
    "plt.show()"
   ]
  },
  {
   "cell_type": "markdown",
   "metadata": {},
   "source": [
    "#### 2. [1 балл] Постройте график зависимости суммы покупок от дней."
   ]
  },
  {
   "cell_type": "code",
   "execution_count": 17,
   "metadata": {},
   "outputs": [
    {
     "data": {
      "text/plain": [
       "Text(0.5, 1.0, ' Количество денег, потраченных в день')"
      ]
     },
     "execution_count": 17,
     "metadata": {},
     "output_type": "execute_result"
    },
    {
     "data": {
      "image/png": "[encoded data removed]",
      "text/plain": [
       "<Figure size 432x288 with 1 Axes>"
      ]
     },
     "metadata": {
      "needs_background": "light"
     },
     "output_type": "display_data"
    }
   ],
   "source": [
    "#Я понял задание так: строим график денег, потраченных в день\n",
    "df['date']=(df['date'].str.replace('2018-01-', '')).astype('int64') #Для того, чтобы по оси Х не было грязи\n",
    "plt.scatter(df.groupby(['date'])['new_price'].aggregate(sum).index,df.groupby(['date'])['new_price'].aggregate(sum) )\n",
    "plt.gcf().autofmt_xdate()\n",
    "plt.xlabel('Дата: День января 2018 года')\n",
    "plt.ylabel('Доллары')\n",
    "plt.title(' Количество денег, потраченных в день')"
   ]
  },
  {
   "cell_type": "markdown",
   "metadata": {},
   "source": [
    "#### 3. [1 балл] Постройте средних сумм покупок по дням недели (bar plot)."
   ]
  },
  {
   "cell_type": "code",
   "execution_count": 18,
   "metadata": {},
   "outputs": [
    {
     "data": {
      "text/plain": [
       "Text(0.5, 1.0, ' средний чек в день недели')"
      ]
     },
     "execution_count": 18,
     "metadata": {},
     "output_type": "execute_result"
    },
    {
     "data": {
      "image/png": "[encoded data removed]",
      "text/plain": [
       "<Figure size 432x288 with 1 Axes>"
      ]
     },
     "metadata": {
      "needs_background": "light"
     },
     "output_type": "display_data"
    }
   ],
   "source": [
    "#Я понял задание так: строим график зависимости цены среднего чека от дня недели\n",
    "df['weekDay']=df['date']%7 \n",
    "#Код снизу находит размер среднего чека в день недели\n",
    "#df.groupby('weekDay')['new_price'].sum()/df.groupby('weekDay')['order_id'].nunique() - это будет переменная У в графике\n",
    "\n",
    "\n",
    "plt.bar(['Sun','Mon','Tue','Wed','Thi','Fri','Sat'], df.groupby('weekDay')['new_price'].sum()/df.groupby('weekDay')['order_id'].nunique())\n",
    "plt.xlabel('Дни недели')\n",
    "plt.ylabel('Средний чек')\n",
    "plt.title(' средний чек в день недели')"
   ]
  },
  {
   "cell_type": "markdown",
   "metadata": {},
   "source": [
    "#### 4. [1 балл] Постройте график зависимости денег за товар от купленного количества (scatter plot)."
   ]
  },
  {
   "cell_type": "code",
   "execution_count": 23,
   "metadata": {},
   "outputs": [
    {
     "data": {
      "text/plain": [
       "Text(0.5, 1.0, ' цена в зависимости от количества товара')"
      ]
     },
     "execution_count": 23,
     "metadata": {},
     "output_type": "execute_result"
    },
    {
     "data": {
      "image/png": "[encoded data removed]",
      "text/plain": [
       "<Figure size 432x288 with 1 Axes>"
      ]
     },
     "metadata": {
      "needs_background": "light"
     },
     "output_type": "display_data"
    }
   ],
   "source": [
    "plt.scatter(df['quantity'],df['new_price']/df['quantity'] )\n",
    "plt.xlabel('Количество товара')\n",
    "plt.ylabel('Цена')\n",
    "plt.title(' цена в зависимости от количества товара')\n"
   ]
  },
  {
   "cell_type": "markdown",
   "metadata": {},
   "source": [
    "Сохраните график в формате pdf (так он останется векторизованным)."
   ]
  },
  {
   "cell_type": "code",
   "execution_count": 24,
   "metadata": {},
   "outputs": [],
   "source": [
    "fig.savefig('УраКонец.pdf')"
   ]
  },
  {
   "cell_type": "markdown",
   "metadata": {},
   "source": [
    "Еще одна билиотека для визуализации: [seaborn](https://jakevdp.github.io/PythonDataScienceHandbook/04.14-visualization-with-seaborn.html). Это настройка над matplotlib, иногда удобнее и красивее делать визуализации через неё. "
   ]
  }
 ],
 "metadata": {
  "kernel_info": {
   "name": "py36"
  },
  "kernelspec": {
   "display_name": "Python 3",
   "language": "python",
   "name": "python3"
  },
  "language_info": {
   "codemirror_mode": {
    "name": "ipython",
    "version": 3
   },
   "file_extension": ".py",
   "mimetype": "text/x-python",
   "name": "python",
   "nbconvert_exporter": "python",
   "pygments_lexer": "ipython3",
   "version": "3.7.3"
  },
  "nteract": {
   "version": "0.11.6"
  }
 },
 "nbformat": 4,
 "nbformat_minor": 2
}
